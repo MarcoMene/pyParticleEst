{
 "worksheets": [
  {
   "cells": [
    {
     "cell_type": "heading",
     "metadata": {},
     "level": 1,
     "source": [
      "Basic Model\n"
     ]
    },
    {
     "cell_type": "heading",
     "metadata": {},
     "level": 6,
     "source": [
      "Demonstrates a simple integrator model. Start by imported the interface classes from pyparticleest and the main simulator class\n"
     ]
    },
    {
     "cell_type": "code",
     "execution_count": null,
     "metadata": {},
     "outputs": [],
     "input": [
      "%matplotlib inline\n",
      "import numpy\n",
      "import pyparticleest.utils.kalman as kalman\n",
      "import pyparticleest.interfaces as interfaces\n",
      "import matplotlib.pyplot as plt\n",
      "import pyparticleest.simulator as simulator\n"
     ],
     "language": "python",
     "prompt_number": 1
    },
    {
     "cell_type": "heading",
     "metadata": {},
     "level": 6,
     "source": [
      "First we need the generate a dataset, it contains a true trajectory x and an array of measurements y. The goal is to estimate x using the data in y."
     ]
    },
    {
     "cell_type": "code",
     "execution_count": null,
     "metadata": {},
     "outputs": [],
     "input": [
      "def generate_dataset(steps, P0, Q, R):\n",
      "    x = numpy.zeros((steps + 1,))\n",
      "    y = numpy.zeros((steps,))\n",
      "    x[0] = 2.0 + 0.0 * numpy.random.normal(0.0, P0)\n",
      "    for k in range(1, steps + 1):\n",
      "        x[k] = x[k - 1] + numpy.random.normal(0.0, Q)\n",
      "        y[k - 1] = x[k] + numpy.random.normal(0.0, R)\n",
      "\n",
      "    return (x, y)\n"
     ],
     "language": "python",
     "prompt_number": 2
    },
    {
     "cell_type": "heading",
     "metadata": {},
     "level": 6,
     "source": [
      "We need to specify the model which estimation is based upon, for this example we implement it directly on top of the interface specifications. More commonly one would use one of the base classes for a specific class of model to reduce the amount of code needed."
     ]
    },
    {
     "cell_type": "code",
     "execution_count": null,
     "metadata": {},
     "outputs": [],
     "input": [
      "class Model(interfaces.ParticleFiltering):\n",
      "    \"\"\" x_{k+1} = x_k + v_k, v_k ~ N(0,Q)\n",
      "        y_k = x_k + e_k, e_k ~ N(0,R),\n",
      "        x(0) ~ N(0,P0) \"\"\"\n",
      "\n",
      "    def __init__(self, P0, Q, R):\n",
      "        self.P0 = numpy.copy(P0)\n",
      "        self.Q = numpy.copy(Q)\n",
      "        self.R = numpy.copy(R)\n",
      "\n",
      "    def create_initial_estimate(self, N):\n",
      "        return numpy.random.normal(0.0, self.P0, (N,)).reshape((-1, 1))\n",
      "\n",
      "    def sample_process_noise(self, particles, u, t):\n",
      "        \"\"\" Return process noise for input u \"\"\"\n",
      "        N = len(particles)\n",
      "        return numpy.random.normal(0.0, self.Q, (N,)).reshape((-1, 1))\n",
      "\n",
      "    def update(self, particles, u, t, noise):\n",
      "        \"\"\" Update estimate using 'data' as input \"\"\"\n",
      "        particles += noise\n",
      "\n",
      "    def measure(self, particles, y, t):\n",
      "        \"\"\" Return the log-pdf value of the measurement \"\"\"\n",
      "        logyprob = numpy.empty(len(particles), dtype=float)\n",
      "        for k in range(len(particles)):\n",
      "            logyprob[k] = kalman.lognormpdf(particles[k].reshape(-1, 1) - y, self.R)\n",
      "        return logyprob\n",
      "\n",
      "    def logp_xnext_full(self, part, past_trajs, pind,\n",
      "                        future_trajs, find, ut, yt, tt, cur_ind):\n",
      "\n",
      "        diff = future_trajs[0].pa.part[find] - part\n",
      "\n",
      "        logpxnext = numpy.empty(len(diff), dtype=float)\n",
      "        for k in range(len(logpxnext)):\n",
      "            logpxnext[k] = kalman.lognormpdf(diff[k].reshape(-1, 1), numpy.asarray(self.Q).reshape(1, 1))\n",
      "        return logpxnext\n"
     ],
     "language": "python",
     "prompt_number": 3
    },
    {
     "cell_type": "heading",
     "metadata": {},
     "level": 6,
     "source": [
      "Define length of dataset and some parameters for the model defined above\n"
     ]
    },
    {
     "cell_type": "code",
     "execution_count": null,
     "metadata": {},
     "outputs": [],
     "input": [
      "steps = 50\n",
      "num = 50\n",
      "P0 = 1.0\n",
      "Q = 1.0\n",
      "R = numpy.asarray(((1.0,),))\n"
     ],
     "language": "python",
     "prompt_number": 4
    },
    {
     "cell_type": "heading",
     "metadata": {},
     "level": 6,
     "source": [
      "Generate the dataset, but first set the seed for the random number generator so we always get the same example"
     ]
    },
    {
     "cell_type": "code",
     "execution_count": null,
     "metadata": {},
     "outputs": [],
     "input": [
      "numpy.random.seed(1)\n",
      "(x, y) = generate_dataset(steps, P0, Q, R)\n"
     ],
     "language": "python",
     "prompt_number": 5
    },
    {
     "cell_type": "heading",
     "metadata": {},
     "level": 6,
     "source": [
      "Instantiate the model and create the simulator object using the model and measurement y. This example does not use an input signal therefore set u=None\n"
     ]
    },
    {
     "cell_type": "code",
     "execution_count": null,
     "metadata": {},
     "outputs": [],
     "input": [
      "model = Model(P0, Q, R)\n",
      "sim = simulator.Simulator(model, u=None, y=y)\n"
     ],
     "language": "python",
     "prompt_number": 6
    },
    {
     "cell_type": "heading",
     "metadata": {},
     "level": 6,
     "source": [
      "Perform the estimation, using 'num' as both the number of forward particle and backward trajectories. For the smoother simply use the ancestral paths of each particle at the end time."
     ]
    },
    {
     "cell_type": "code",
     "execution_count": null,
     "metadata": {},
     "outputs": [
      {
       "prompt_number": 7,
       "metadata": {},
       "output_type": "pyout",
       "text": [
        "33"
       ]
      }
     ],
     "input": [
      "sim.simulate(num, num, smoother='ancestor')\n"
     ],
     "language": "python",
     "prompt_number": 7
    },
    {
     "cell_type": "heading",
     "metadata": {},
     "level": 6,
     "source": [
      "Extract filtered and smoothed estimates"
     ]
    },
    {
     "cell_type": "code",
     "execution_count": null,
     "metadata": {},
     "outputs": [],
     "input": [
      "(vals, _) = sim.get_filtered_estimates()\n",
      "svals = sim.get_smoothed_estimates()\n"
     ],
     "language": "python",
     "prompt_number": 8
    },
    {
     "cell_type": "heading",
     "metadata": {},
     "level": 6,
     "source": [
      "Plot true trajectory, measurements and the filtered and smoothed estimates\n"
     ]
    },
    {
     "cell_type": "code",
     "execution_count": null,
     "metadata": {},
     "outputs": [
      {
       "prompt_number": 9,
       "metadata": {},
       "output_type": "pyout",
       "text": [
        "<matplotlib.text.Text at 0x7f654682bc10>"
       ]
      },
      {
       "png": "[encoded data removed]",
       "metadata": {},
       "text": [
        "<matplotlib.figure.Figure at 0x7f6546874850>"
       ]
      }
     ],
     "input": [
      "plt.plot(range(steps + 1), x, 'r-')\n",
      "plt.plot(range(1, steps + 1), y, 'bx')\n",
      "plt.plot(range(steps + 1), vals[:, :, 0], 'k.', markersize=0.8)\n",
      "plt.plot(range(steps + 1), svals[:, :, 0], 'b--')\n",
      "plt.plot(range(steps + 1), x, 'r-')\n",
      "plt.xlabel('t')\n",
      "plt.ylabel('x')\n"
     ],
     "language": "python",
     "prompt_number": 9
    },
    {
     "cell_type": "code",
     "execution_count": null,
     "metadata": {},
     "outputs": [],
     "input": [],
     "language": "python",
     "prompt_number": 9
    }
   ]
  }
 ],
 "cells": [],
 "metadata": {
  "name": "",
  "signature": "sha256:14e723ea85ca9dc3dbcf17a8950cb60dfcd8fe1c7bc561fa16ccb902d9b504fd"
 },
 "nbformat": 4,
 "nbformat_minor": 0
}
